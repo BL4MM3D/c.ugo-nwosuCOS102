{
 "cells": [
  {
   "cell_type": "code",
   "execution_count": null,
   "metadata": {},
   "outputs": [],
   "source": [
    "def printme( str ):\n",
    "    #this puts a passed string\n",
    "    print(str)\n",
    "    "
   ]
  },
  {
   "cell_type": "code",
   "execution_count": 9,
   "metadata": {},
   "outputs": [
    {
     "name": "stdout",
     "output_type": "stream",
     "text": [
      "Name:  Miki\n",
      "Age:  50\n"
     ]
    }
   ],
   "source": [
    "def printinfo( name, age ):\n",
    "    #test function\n",
    "    print (\"Name: \", name);\n",
    "    print (\"Age: \", age);\n",
    "    return;\n",
    "printinfo( age=50, name=\"Miki\");\n"
   ]
  },
  {
   "cell_type": "code",
   "execution_count": null,
   "metadata": {},
   "outputs": [],
   "source": [
    "def add(*vartuple):\n",
    "    total = 0\n",
    "    for var in vartuple:\n",
    "        total += var\n",
    "        return total\n"
   ]
  },
  {
   "cell_type": "code",
   "execution_count": 1,
   "metadata": {},
   "outputs": [
    {
     "name": "stdout",
     "output_type": "stream",
     "text": [
      "Inside the function local total : 40\n",
      "outside the function global total:  50\n"
     ]
    }
   ],
   "source": [
    "total = 50; #this is a global variable\n",
    "def sum( arg1, arg2 ):\n",
    "    #add both parameters\n",
    "    total = arg2 + arg2\n",
    "    print(\"Inside the function local total :\", total)\n",
    "    return total;\n",
    "#now you can call sum function\n",
    "sum( 10, 20 )\n",
    "print(\"outside the function global total: \", total)"
   ]
  },
  {
   "cell_type": "code",
   "execution_count": null,
   "metadata": {},
   "outputs": [],
   "source": [
    "def swap(x, y):\n",
    "    global a\n",
    "    a = \"Lawal\"\n",
    "    x,y = y,x\n",
    "    b = \"Chris\"\n",
    "    b = \"Edward\"\n",
    "    c = \"Lola\"\n",
    "    print(a,b,x,y)\n",
    "    a = \"Mary\"\n",
    "swap(\"Tina\", \"Tolu\")\n",
    "print\n"
   ]
  },
  {
   "cell_type": "code",
   "execution_count": null,
   "metadata": {},
   "outputs": [],
   "source": [
    "#testing a sigle function\n",
    "def printme( str ):\n",
    "    #this puts a passed string\n",
    "    print(str);\n",
    "    return"
   ]
  },
  {
   "cell_type": "code",
   "execution_count": 3,
   "metadata": {},
   "outputs": [
    {
     "name": "stdout",
     "output_type": "stream",
     "text": [
      "Im first call to user defined function!\n",
      "Again second call to the same function\n"
     ]
    }
   ],
   "source": [
    "def printme( str ):\n",
    "    #this is a print function\n",
    "    print(str);\n",
    "    return\n",
    "printme(\"Im first call to user defined function!\");\n",
    "printme(\"Again second call to the same function\");"
   ]
  },
  {
   "cell_type": "code",
   "execution_count": 4,
   "metadata": {},
   "outputs": [
    {
     "name": "stdout",
     "output_type": "stream",
     "text": [
      "Values inside the function:  [10, 20, 30, [1, 2, 3, 4]]\n",
      "Values outside the function [10, 20, 30, [1, 2, 3, 4]]\n"
     ]
    }
   ],
   "source": [
    "def changeme( mylist ):\n",
    "    #this changes a passed list\n",
    "    mylist.append([1,2,3,4]);\n",
    "    print(\"Values inside the function: \", mylist)\n",
    "    return\n",
    "mylist = [10, 20, 30]\n",
    "changeme( mylist )\n",
    "print (\"Values outside the function\", mylist)"
   ]
  },
  {
   "cell_type": "code",
   "execution_count": null,
   "metadata": {},
   "outputs": [
    {
     "name": "stdout",
     "output_type": "stream",
     "text": [
      "Names on the inner list ['Hanako', 'Feu', 'Sean', ['jon', 'henry', 'sophie']]\n",
      "Names on the outer list ['Hanako', 'Feu', 'Sean', ['jon', 'henry', 'sophie']]\n"
     ]
    }
   ],
   "source": [
    "#passing by reference with append\n",
    "def changeme( mynames ):\n",
    "    mynames.append([\"jon\", \"henry\", \"sophie\"])\n",
    "    print (\"Names on the inner list\", mynames)\n",
    "    return\n",
    "mynames = [\"Hanako\", \"Feu\", \"Sean\"]\n",
    "changeme( mynames )\n",
    "print (\"Names on the outer list\", mynames)"
   ]
  },
  {
   "cell_type": "code",
   "execution_count": 22,
   "metadata": {},
   "outputs": [
    {
     "name": "stdout",
     "output_type": "stream",
     "text": [
      "first set of names ['jon', 'henry', 'sophie']\n",
      "outer list of names ['Hanako', 'Feu', 'Sean']\n"
     ]
    }
   ],
   "source": [
    "#passing by reference without append\n",
    "def changeme( mynames ):\n",
    "    mynames = [\"jon\", \"henry\", \"sophie\"]\n",
    "    print (\"first set of names\", mynames)\n",
    "    return\n",
    "mynames = [\"Hanako\", \"Feu\", \"Sean\"]\n",
    "changeme( mynames )\n",
    "print(\"outer list of names\", mynames)"
   ]
  },
  {
   "cell_type": "code",
   "execution_count": 30,
   "metadata": {},
   "outputs": [
    {
     "ename": "TypeError",
     "evalue": "printme() missing 1 required positional argument: 'str'",
     "output_type": "error",
     "traceback": [
      "\u001b[31m---------------------------------------------------------------------------\u001b[39m",
      "\u001b[31mTypeError\u001b[39m                                 Traceback (most recent call last)",
      "\u001b[36mCell\u001b[39m\u001b[36m \u001b[39m\u001b[32mIn[30]\u001b[39m\u001b[32m, line 6\u001b[39m\n\u001b[32m      4\u001b[39m     \u001b[38;5;28mprint\u001b[39m (\u001b[38;5;28mstr\u001b[39m)\n\u001b[32m      5\u001b[39m     \u001b[38;5;28;01mreturn\u001b[39;00m\n\u001b[32m----> \u001b[39m\u001b[32m6\u001b[39m \u001b[43mprintme\u001b[49m\u001b[43m(\u001b[49m\u001b[43m)\u001b[49m\n",
      "\u001b[31mTypeError\u001b[39m: printme() missing 1 required positional argument: 'str'"
     ]
    }
   ],
   "source": [
    "# using keywords (wrong way first)\n",
    "def printme( str ):\n",
    "    #this prints a passed string\n",
    "    print (str)\n",
    "    return\n",
    "printme()"
   ]
  },
  {
   "cell_type": "code",
   "execution_count": 28,
   "metadata": {},
   "outputs": [
    {
     "name": "stdout",
     "output_type": "stream",
     "text": [
      "My string\n"
     ]
    }
   ],
   "source": [
    "# using keywords (Correct way)\n",
    "def printme( str ):\n",
    "    #this prints a passed string\n",
    "    print (str)\n",
    "    return\n",
    "printme( str = \"My string\" )"
   ]
  },
  {
   "cell_type": "code",
   "execution_count": null,
   "metadata": {},
   "outputs": [
    {
     "name": "stdout",
     "output_type": "stream",
     "text": [
      "Name: Miki\n",
      "Age:  50\n"
     ]
    }
   ],
   "source": [
    "#keyword arguments\n",
    "def printinfo( name, age ):\n",
    "    #test function\n",
    "    print (\"Name:\", name)\n",
    "    print (\"Age: \", age)\n",
    "    return\n",
    "printinfo( age=50, name=\"Miki\")\n"
   ]
  },
  {
   "cell_type": "code",
   "execution_count": null,
   "metadata": {},
   "outputs": [
    {
     "name": "stdout",
     "output_type": "stream",
     "text": [
      "Name:  Carnby\n",
      "Age:  45\n",
      "Name:  Ragnar\n",
      "Age:  35\n"
     ]
    }
   ],
   "source": [
    "#default arguments\n",
    "def printinfo( name, age = 35 ):\n",
    "    # Test Function\n",
    "    print (\"Name: \", name)\n",
    "    print (\"Age: \", age)\n",
    "    return\n",
    "printinfo(name= \"Carnby\", age= 45)\n",
    "printinfo(name= \"Ragnar\")"
   ]
  },
  {
   "cell_type": "code",
   "execution_count": null,
   "metadata": {},
   "outputs": [],
   "source": [
    "#variable arguments\n",
    "def printinfo( arg1, *vartuple ):\n",
    "    #this is a test"
   ]
  }
 ],
 "metadata": {
  "kernelspec": {
   "display_name": "Python 3",
   "language": "python",
   "name": "python3"
  },
  "language_info": {
   "codemirror_mode": {
    "name": "ipython",
    "version": 3
   },
   "file_extension": ".py",
   "mimetype": "text/x-python",
   "name": "python",
   "nbconvert_exporter": "python",
   "pygments_lexer": "ipython3",
   "version": "3.13.2"
  }
 },
 "nbformat": 4,
 "nbformat_minor": 2
}
