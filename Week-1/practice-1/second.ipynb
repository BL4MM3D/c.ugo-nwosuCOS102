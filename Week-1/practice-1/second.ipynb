{
 "cells": [
  {
   "cell_type": "code",
   "execution_count": 1,
   "metadata": {},
   "outputs": [
    {
     "name": "stdout",
     "output_type": "stream",
     "text": [
      "2.0\n",
      "3.0\n"
     ]
    }
   ],
   "source": [
    "# accessing parts\n",
    "z = 2 + 3j\n",
    "print(z.real) #2.0\n",
    "print(z.imag) #3.0"
   ]
  },
  {
   "cell_type": "code",
   "execution_count": 12,
   "metadata": {},
   "outputs": [
    {
     "data": {
      "text/plain": [
       "'HELLO WORLD'"
      ]
     },
     "execution_count": 12,
     "metadata": {},
     "output_type": "execute_result"
    }
   ],
   "source": [
    "# strings\n",
    "name = \"Hello World\"\n",
    "name[::2]\n",
    "name.upper()"
   ]
  },
  {
   "cell_type": "code",
   "execution_count": null,
   "metadata": {},
   "outputs": [],
   "source": []
  },
  {
   "cell_type": "code",
   "execution_count": 25,
   "metadata": {},
   "outputs": [
    {
     "name": "stdout",
     "output_type": "stream",
     "text": [
      "['lemon', 'Apple', 'Soursop', 'Pineapple', 'Guava', 4, False]\n"
     ]
    }
   ],
   "source": [
    "# learning lists\n",
    "fruits = [\"Apple\", \"banana\",  \"Pineapple\", \"Guava\", 4, False]\n",
    "#fruits[0:4:2]\n",
    "fruits[1] = \"Soursop\"\n",
    "fruits.append(\"lemon\")\n",
    "fruits.pop()\n",
    "fruits.insert(0, \"lemon\")\n",
    "print(fruits)"
   ]
  },
  {
   "cell_type": "code",
   "execution_count": 29,
   "metadata": {},
   "outputs": [
    {
     "name": "stdout",
     "output_type": "stream",
     "text": [
      "<class 'range'>\n"
     ]
    }
   ],
   "source": [
    "#ranging\n",
    "range1 = range(5)\n",
    "range2 = range(1, 6)\n",
    "range3 = range(1, 10, 2)\n",
    "range4 = range(10, 0, -1)\n",
    "\n",
    "print(type(range1))"
   ]
  },
  {
   "cell_type": "code",
   "execution_count": null,
   "metadata": {},
   "outputs": [],
   "source": [
    "# more on lists\n",
    "starter\n",
    "m"
   ]
  }
 ],
 "metadata": {
  "kernelspec": {
   "display_name": "Python 3",
   "language": "python",
   "name": "python3"
  },
  "language_info": {
   "codemirror_mode": {
    "name": "ipython",
    "version": 3
   },
   "file_extension": ".py",
   "mimetype": "text/x-python",
   "name": "python",
   "nbconvert_exporter": "python",
   "pygments_lexer": "ipython3",
   "version": "undefined.undefined.undefined"
  },
  "orig_nbformat": 4,
  "vscode": {
   "interpreter": {
    "hash": "a091f006ff79a2850abc45f51b82c4f3113d48382e16525c58816c44321329b3"
   }
  }
 },
 "nbformat": 4,
 "nbformat_minor": 2
}
