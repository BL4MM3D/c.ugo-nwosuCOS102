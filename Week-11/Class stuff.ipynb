{
 "cells": [
  {
   "cell_type": "code",
   "execution_count": 3,
   "id": "f03d3843",
   "metadata": {},
   "outputs": [
    {
     "name": "stdout",
     "output_type": "stream",
     "text": [
      "Name: Ugochi Mbaekwe\n",
      "Salary: 10000\n",
      "Salary: 50000\n"
     ]
    }
   ],
   "source": [
    "class Employee:\n",
    "\n",
    "    #constructor\n",
    "    def __init__(self, name, salary):\n",
    "        #public instance variable\n",
    "        self.name = name\n",
    "\n",
    "        #private variable\n",
    "        self.__salary = salary\n",
    "\n",
    "    def get_salary(self):\n",
    "        return self.__salary\n",
    "    \n",
    "    def set_salary(self, value):\n",
    "        self.__salary = value\n",
    "\n",
    "#creating object of a class\n",
    "emp = Employee(\"Ugochi Mbaekwe\", 10000)\n",
    "\n",
    "#accessing public instance variables\n",
    "print(\"Name:\", emp.name)\n",
    "\n",
    "#accessing private instance variable\n",
    "print('Salary:', emp._Employee__salary)\n",
    "emp.set_salary(50000)\n",
    "print('Salary:', emp.get_salary())"
   ]
  },
  {
   "cell_type": "code",
   "execution_count": null,
   "id": "91bdf9aa",
   "metadata": {},
   "outputs": [],
   "source": [
    "class Company:\n",
    "    #base constructor\n",
    "    def __init__(self):\n",
    "        #protected instance variable\n",
    "        self._project = \"Blockchain Development\"\n",
    "\n",
    "class Employee(Company):\n",
    "    #child constructor\n",
    "    def __init__(self, name):\n",
    "        self.name = name\n",
    "\n",
    "        #invoke base constructor\n",
    "        Company.__init__(self)\n",
    "\n",
    "    def show(self):\n",
    "        print(\"Employee Name:\", self.name)\n",
    "\n",
    "        #accessing protected instance variable\n",
    "        print(\"Working on project:\", self._project)  \n",
    "          "
   ]
  },
  {
   "cell_type": "code",
   "execution_count": 10,
   "id": "1f88f646",
   "metadata": {},
   "outputs": [
    {
     "name": "stdout",
     "output_type": "stream",
     "text": [
      "Game Name: Insomniac Spider-Man 2\n",
      "Game Genre: Action-adventure\n",
      "Game Exclusivity: Playstation 5 exclusivity\n",
      "Game Release Date: October 20, 2023\n",
      "Game Compatibility: PC and Playstation 5\n"
     ]
    }
   ],
   "source": [
    "class Games:\n",
    "    def __init__(self, name, genre, exclusivity, release, compatibility):\n",
    "        self.name = name\n",
    "        self.genre = genre\n",
    "        self.__exclusivity = exclusivity\n",
    "        self.__release = release\n",
    "        self.__compatibility = compatibility\n",
    "\n",
    "    def get_exclusivity(self):\n",
    "        return self.__exclusivity\n",
    "    def get_release(self):\n",
    "        return self.__release\n",
    "    def get_compatibility(self):\n",
    "        return self.__compatibility\n",
    "    \n",
    "    #creating th object\n",
    "game = Games(\"Insomniac Spider-Man 2\", \"Action-adventure\", \"Playstation 5 exclusivity\", \"October 20, 2023\", \"PC and Playstation 5\")\n",
    "print(\"Game Name:\", game.name)\n",
    "print(\"Game Genre:\", game.genre)\n",
    "print(\"Game Exclusivity:\", game.get_exclusivity())\n",
    "print(\"Game Release Date:\", game.get_release()) \n",
    "print(\"Game Compatibility:\", game.get_compatibility())\n"
   ]
  }
 ],
 "metadata": {
  "kernelspec": {
   "display_name": "Python 3",
   "language": "python",
   "name": "python3"
  },
  "language_info": {
   "codemirror_mode": {
    "name": "ipython",
    "version": 3
   },
   "file_extension": ".py",
   "mimetype": "text/x-python",
   "name": "python",
   "nbconvert_exporter": "python",
   "pygments_lexer": "ipython3",
   "version": "3.13.2"
  }
 },
 "nbformat": 4,
 "nbformat_minor": 5
}
